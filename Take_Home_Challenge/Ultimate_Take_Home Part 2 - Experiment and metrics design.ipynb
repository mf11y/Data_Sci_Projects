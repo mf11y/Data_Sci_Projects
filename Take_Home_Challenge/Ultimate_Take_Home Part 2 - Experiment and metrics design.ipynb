{
 "cells": [
  {
   "cell_type": "markdown",
   "metadata": {},
   "source": [
    "### Part 2 ‑ Experiment and metrics design \n",
    "<br>\n",
    "\n",
    "The neighboring cities of Gotham and Metropolis have complementary circadian rhythms: on \n",
    "weekdays, Ultimate Gotham is most active at night, and Ultimate Metropolis is most active \n",
    "during the day. On weekends, there is reasonable activity in both cities. \n",
    "However, a toll bridge, with a two way toll, between the two cities causes driver partners to tend \n",
    "to be exclusive to each city. The Ultimate managers of city operations for the two cities have \n",
    "proposed an experiment to encourage driver partners to be available in both cities, by \n",
    "reimbursing all toll costs.\n",
    "\n",
    "    1. What would you choose as the key measure of success of this experiment in\n",
    "    encouraging driver partners to serve both cities, and why would you choose this metric?\n",
    "    2. Describe a practical experiment you would design to compare the effectiveness of the\n",
    "    proposed change in relation to the key measure of success. Please provide details on:\n",
    "        a. how you will implement the experiment\n",
    "        b. what statistical test(s) you will conduct to verify the significance of the\n",
    "        observation\n",
    "        c. how you would interpret the results and provide recommendations to the city\n",
    "        operations team along with any caveats."
   ]
  },
  {
   "cell_type": "markdown",
   "metadata": {},
   "source": [
    "# 1"
   ]
  },
  {
   "cell_type": "markdown",
   "metadata": {},
   "source": [
    "The goal of the program is to improve driver availability. The more drivers you have spread out in a certain area, the less amount of time riders will need to wait for a driver to pick them up because there is a higher probability that there would be a driver close by. To see if the program would work, scenarios need to be identified that would cause a driver to cross the bridge.\n",
    "\n",
    "The scenarios where a driver would need to cross the bridge would be:\n",
    "1. A passenger to pick up is across the bridge\n",
    "2. The destination of a passenger they have picked up is across the bridge\n",
    "3. The driver needs to cross the bridge to place themselves in a busier area\n",
    "4. The driver needs to get home\n",
    "\n",
    "On apps like Uber, the driver can only see the passenger's destination once they've been picked up. The proposed program would not have an affect on this scenario.\n",
    "\n",
    "The two scenarios that would reduce rider waiting time would be when a driver needs to cross the bridge to pick up a passenger and when a driver would like to place himself in a busier area. Apps like Uber send requests to drivers that are close by. There could be a scenario where a driver across the bridge is closer than any other driver that is not across the bridge. There could also be times where a certain area is unusally busy or unusually quiet. A driver would need to move to a busier area to continue making profits or to make greater profits. The more drivers in a busy area, the less time riders need to wait.\n",
    "\n",
    "The key metric that I would use to assess program success is rider waiting time. Waiting time is the amount of time it takes for a rider to be picked up once the rider sends a pick up request. If this time is lower, then that would mean there are more drivers that are available. \n"
   ]
  },
  {
   "cell_type": "markdown",
   "metadata": {},
   "source": [
    "# 2"
   ]
  },
  {
   "cell_type": "markdown",
   "metadata": {},
   "source": [
    "I would look at the average waiting time before the program and compare it to the average waiting time after implementation.\n",
    "\n",
    "a. I am assuming that Ultimate already has historical data on waiting times. If not, this kind of data should be tracked over at least a few months. After the toll reimbursment program goes into effect, I would give it a month or two to be able to compare means.\n",
    "\n",
    "b. I would perform a one tailed z-test, since the population standard deviation is known and we have a large number of samples. \n",
    "\n",
    "<br>\n",
    "These would be my two hypotheses:\n",
    "<br>\n",
    "\n",
    "𝐻0: 𝜇 >= 𝜇0 (The new mean waiting time is more than or equal to the old mean)\n",
    "<br>\n",
    "𝐻1: 𝜇 < 𝜇0 (The new mean waiting time is less than the old mean)\n",
    "\n",
    "c. The z-test would tell me if there was any significant differences between the two means. If the p-value is less than .05, I would be able to reject the null hypothesis. \n",
    "<br>\n",
    "\n",
    "Something I would tell the operating team is that the cost of paying the driver's tolls might exceed the profit gained from increased driver availability. They may need to set up a deal with the city to reduce the toll cost for their drivers so they could see profits. Or Ultimate can impose a limit the amount times the driver can cross the bridge and have their toll paid."
   ]
  },
  {
   "cell_type": "code",
   "execution_count": null,
   "metadata": {},
   "outputs": [],
   "source": []
  }
 ],
 "metadata": {
  "kernelspec": {
   "display_name": "Python 3",
   "language": "python",
   "name": "python3"
  },
  "language_info": {
   "codemirror_mode": {
    "name": "ipython",
    "version": 3
   },
   "file_extension": ".py",
   "mimetype": "text/x-python",
   "name": "python",
   "nbconvert_exporter": "python",
   "pygments_lexer": "ipython3",
   "version": "3.8.2"
  }
 },
 "nbformat": 4,
 "nbformat_minor": 4
}
