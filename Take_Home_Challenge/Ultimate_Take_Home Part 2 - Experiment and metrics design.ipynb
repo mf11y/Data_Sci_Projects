{
 "cells": [
  {
   "cell_type": "markdown",
   "metadata": {},
   "source": [
    "### Part 2 ‑ Experiment and metrics design \n",
    "<br>\n",
    "\n",
    "The neighboring cities of Gotham and Metropolis have complementary circadian rhythms: on \n",
    "weekdays, Ultimate Gotham is most active at night, and Ultimate Metropolis is most active \n",
    "during the day. On weekends, there is reasonable activity in both cities. \n",
    "However, a toll bridge, with a two way toll, between the two cities causes driver partners to tend \n",
    "to be exclusive to each city. The Ultimate managers of city operations for the two cities have \n",
    "proposed an experiment to encourage driver partners to be available in both cities, by \n",
    "reimbursing all toll costs.\n",
    "\n",
    "    1. What would you choose as the key measure of success of this experiment in\n",
    "    encouraging driver partners to serve both cities, and why would you choose this metric?\n",
    "    2. Describe a practical experiment you would design to compare the effectiveness of the\n",
    "    proposed change in relation to the key measure of success. Please provide details on:\n",
    "        a. how you will implement the experiment\n",
    "        b. what statistical test(s) you will conduct to verify the significance of the\n",
    "        observation\n",
    "        c. how you would interpret the results and provide recommendations to the city\n",
    "        operations team along with any caveats."
   ]
  },
  {
   "cell_type": "markdown",
   "metadata": {},
   "source": [
    "# 1"
   ]
  },
  {
   "cell_type": "markdown",
   "metadata": {},
   "source": [
    "The scenarios where a driver would need to cross the bridge would be:\n",
    "1. A passenger to pick up is across the bridge\n",
    "2. The destination of a passenger they have picked up is across the bridge\n",
    "3. The driver needs to cross the bridge to place themselves in a busier area\n",
    "4. The driver needs to get home\n",
    "\n",
    "Drivers for Uber can only see the passenger's destination once they've been picked up, so the destination of a passenger does not affect whether or not the driver will purposely choose to cross the bridge.\n",
    "\n",
    "The two most common scenarios where drivers purposely cross the bridge is when a driver needs to place themselves in a busier area and when they choose to pick up a passenger that is across the bridge.\n",
    "<br>\n",
    "<br>\n",
    "<br>\n",
    "The metric that I would choose is the number of times a driver has chosen to pick up someone that is currently in the opposite city as the driver \n",
    "<br>\n",
    "PLUS\n",
    "<br>\n",
    "The number of times they choose to cross the bridge with no one to pick up or drop off. This shows they are moving across the bridge perhaps to increase their chances of getting passenger requests.\n",
    "\n",
    "If this number increases, the program should be considered a success."
   ]
  },
  {
   "cell_type": "markdown",
   "metadata": {},
   "source": [
    "# 2"
   ]
  },
  {
   "cell_type": "markdown",
   "metadata": {},
   "source": [
    "I would look at the average for the metric chosen before the program implementation and compare that with the average of the metric after the implementation.\n",
    "\n",
    "a. I am assuming that Ultimate already has historical data for my proposed metrics. If not, this kind of data should be tracked over at least a few months. After the toll reimbursment program goes into effect, I would give it a month or two to be able to compare means.\n",
    "\n",
    "b. I would do a z-test, since the population standard deviation is known and we have a large number of samples. \n",
    "\n",
    "<br>\n",
    "These would be my two hypotheses:\n",
    "<br>\n",
    "\n",
    "𝐻0: 𝜇 <= 𝜇0 (The new mean is less than or equal to the old mean)\n",
    "<br>\n",
    "𝐻1: 𝜇 > 𝜇0 (The new mean is greater than the old mean)\n",
    "\n",
    "c. The z-test would tell me if there was any significant differences between the two means. \n",
    "\n",
    "If the sole marker of success was to increase drivers crossing the bridge, then the program could be seen as a success. In reality, the costs of implementing such a program would need to be taken into account."
   ]
  }
 ],
 "metadata": {
  "kernelspec": {
   "display_name": "Python 3",
   "language": "python",
   "name": "python3"
  },
  "language_info": {
   "codemirror_mode": {
    "name": "ipython",
    "version": 3
   },
   "file_extension": ".py",
   "mimetype": "text/x-python",
   "name": "python",
   "nbconvert_exporter": "python",
   "pygments_lexer": "ipython3",
   "version": "3.8.2"
  }
 },
 "nbformat": 4,
 "nbformat_minor": 4
}
